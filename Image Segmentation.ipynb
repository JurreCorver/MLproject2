{
 "cells": [
  {
   "cell_type": "code",
   "execution_count": 1,
   "metadata": {
    "collapsed": false
   },
   "outputs": [],
   "source": [
    "def show_slices(slices):\n",
    "    import matplotlib.pyplot as plt\n",
    "    fig, axes = plt.subplots(1, len(slices), figsize=(8, 3), sharex=True, sharey=True)\n",
    "    for i, slice in enumerate(slices):\n",
    "       axes[i].imshow(slice)\n",
    "    fig.subplots_adjust(wspace=0.02, hspace=0.02, top=0.9,\n",
    "                            bottom=0.02, left=0.02, right=0.98)\n",
    "    plt.show()"
   ]
  },
  {
   "cell_type": "code",
   "execution_count": 2,
   "metadata": {
    "collapsed": false
   },
   "outputs": [],
   "source": [
    "def image_segmentation(in_file_name, out_file_name, show_image):\n",
    "    import nibabel as nib\n",
    "    from skimage import exposure, segmentation, color\n",
    "    from skimage import feature\n",
    "    from skimage.future import graph\n",
    "    import numpy as np\n",
    "    import matplotlib.pyplot as plt\n",
    " \n",
    "    #example_ni1 = os.path.join(data_path, in_file_name)\n",
    "    n1_img = nib.load(in_file_name)\n",
    "    img_data = n1_img.get_data()\n",
    "    print(img_data.shape)\n",
    "    #save_example_ni1 = os.path.join(data_path, out_file_name)\n",
    "\n",
    "    slice = np.zeros((176,176,208))\n",
    "    segm= np.zeros((176,176,208))\n",
    "    for i in range(175):\n",
    "        slice[i] = img_data[:,:,i,0]\n",
    "        slice[i] = exposure.rescale_intensity(slice[i], out_range=(0, 256))\n",
    "        img = color.gray2rgb(slice[i])\n",
    "        if (img.min() >= 0):\n",
    "            labels1 = segmentation.slic(img, compactness=30, n_segments=400, multichannel=False)\n",
    "            out1 = color.label2rgb(labels1, img, kind='avg')\n",
    "            g = graph.rag_mean_color(img, labels1, mode='similarity')\n",
    "            labels2 = graph.cut_normalized(labels1, g)\n",
    "            out2 = color.label2rgb(labels2, img, kind='avg')\n",
    "            segm[i] = color.rgb2gray(out2)\n",
    "\n",
    "\n",
    "    if (show_image):\n",
    "        show_slices([slice[100], slice[110], slice[120]])\n",
    "        plt.suptitle(\"slices\")\n",
    "\n",
    "    for i in range(175):\n",
    "        img_data[:,:,i,0] = segm[i]        \n",
    "\n",
    "    if (show_image):\n",
    "        # display results\n",
    "        fig, (ax1, ax2, ax3) = plt.subplots(nrows=1, ncols=3, figsize=(8, 3), sharex=True, sharey=True)\n",
    "\n",
    "        ax1.imshow(img_data[:,:,100,0])\n",
    "        ax1.axis('off')\n",
    "        ax1.set_title('image 100', fontsize=20)\n",
    "\n",
    "        ax2.imshow(img_data[:,:,110,0])\n",
    "        ax2.axis('off')\n",
    "        ax2.set_title('image 110', fontsize=20)\n",
    "\n",
    "        ax3.imshow(img_data[:,:,120,0])\n",
    "        ax3.axis('off')\n",
    "        ax3.set_title('image 120', fontsize=20)\n",
    "\n",
    "        fig.subplots_adjust(wspace=0.02, hspace=0.02, top=0.9,\n",
    "                            bottom=0.02, left=0.02, right=0.98)\n",
    "\n",
    "        plt.show()\n",
    "\n",
    "    save_img = nib.Nifti1Image(img_data, np.eye(4))\n",
    "    nib.save(save_img, save_example_ni1)"
   ]
  },
  {
   "cell_type": "code",
   "execution_count": 3,
   "metadata": {
    "collapsed": false,
    "scrolled": true
   },
   "outputs": [
    {
     "name": "stdout",
     "output_type": "stream",
     "text": [
      "(176, 208, 176, 1)\n"
     ]
    },
    {
     "name": "stderr",
     "output_type": "stream",
     "text": [
      "C:\\Users\\ia\\Anaconda3\\lib\\site-packages\\skimage\\exposure\\exposure.py:307: RuntimeWarning: invalid value encountered in true_divide\n",
      "  image = (image - imin) / float(imax - imin)\n"
     ]
    }
   ],
   "source": [
    "from nibabel.testing import data_path\n",
    "import os\n",
    "from IPython.display import *\n",
    "\n",
    "dataFile_size = 138\n",
    "\n",
    "for i in range(137,dataFile_size):\n",
    "    file_name_input = \"\\\\ETH\\\\data\\\\set_test\\\\test_\" + str(i+1) + \".nii\"\n",
    "    example_ni1 = os.path.join(data_path, file_name_input)\n",
    "    file_name_output = \"\\\\ETH\\\\data\\\\set_test\\\\test_\" + str(i+1) + \"_sg.nii\"\n",
    "    save_example_ni1 = os.path.join(data_path, file_name_output)\n",
    "    image_segmentation(example_ni1, save_example_ni1, show_image=False)\n"
   ]
  },
  {
   "cell_type": "code",
   "execution_count": null,
   "metadata": {
    "collapsed": true
   },
   "outputs": [],
   "source": []
  }
 ],
 "metadata": {
  "anaconda-cloud": {},
  "kernelspec": {
   "display_name": "Python [conda root]",
   "language": "python",
   "name": "conda-root-py"
  },
  "language_info": {
   "codemirror_mode": {
    "name": "ipython",
    "version": 3
   },
   "file_extension": ".py",
   "mimetype": "text/x-python",
   "name": "python",
   "nbconvert_exporter": "python",
   "pygments_lexer": "ipython3",
   "version": "3.5.2"
  }
 },
 "nbformat": 4,
 "nbformat_minor": 0
}

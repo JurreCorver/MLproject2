{
 "cells": [
  {
   "cell_type": "code",
   "execution_count": 21,
   "metadata": {
    "collapsed": false
   },
   "outputs": [],
   "source": [
    "import os, glob\n",
    "import csv\n",
    "import matplotlib.pyplot as plt\n",
    "import numpy as np\n",
    "from numpy import genfromtxt\n",
    "import nibabel as nib\n",
    "from scipy import stats\n",
    "from nibabel.testing import data_path\n",
    "\n",
    "# csv write a formated csv file\n",
    "def csvFormatedOutput(fileName, ans):\n",
    "    with open(fileName, 'w', newline='') as f:\n",
    "        c = csv.writer(f, delimiter=',',\n",
    "                       quotechar='|', quoting=csv.QUOTE_MINIMAL)\n",
    "        c.writerow(['ID', 'Prediction'])\n",
    "        for i in range(0, len(ans)):\n",
    "            c.writerow([i + 1, ans[i]])\n",
    "    return 0\n",
    "\n",
    "def listToMat(l):\n",
    "    return np.array(l).reshape(-1, np.array(l).shape[-1])\n",
    "\n",
    "def plotter(measured, predicted):\n",
    "    # plot the result\n",
    "    fig, ax = plt.subplots()\n",
    "    y = measured\n",
    "    ax.scatter(y, predicted)\n",
    "    ax.plot([y.min(), y.max()], [y.min(), y.max()], 'k--', lw=4)\n",
    "    ax.set_xlabel('Measured')\n",
    "    ax.set_ylabel('Predicted')\n",
    "    plt.show()\n",
    "    return 0\n",
    "\n",
    "def readFileDir(fileDir):\n",
    "    dirFile = []\n",
    "    for file in os.listdir(fileDir):\n",
    "        if file.endswith(\".nii\"):\n",
    "            dirFile.append(file)\n",
    "    dirFile = listToMat(dirFile)\n",
    "    numDir = dirFile.shape[1]\n",
    "    if numDir == 0:\n",
    "        return [],-1\n",
    "    else:\n",
    "        return dirFile, numDir\n",
    "\n",
    "def readFileNumber(filename):\n",
    "    startIndex = filename.find('_')\n",
    "    endIndex = filename.find('.')\n",
    "    if (startIndex != -1) & (endIndex > startIndex):\n",
    "        return int(filename[startIndex + 1:endIndex])\n",
    "    else:\n",
    "        return -1\n",
    "    \n",
    "def computeStats(yy):\n",
    "    temp = []\n",
    "    temp.append(yy.mean())\n",
    "    temp.append(yy.std())\n",
    "#     sigma = yy.std()\n",
    "    temp.append(np.median(yy))\n",
    "    temp.append(yy.max())\n",
    "    temp.append(yy.min())\n",
    "    m3 = stats.moment(yy,3)\n",
    "    temp.append(stats.skew(yy))\n",
    "    m4 = stats.moment(yy,4)\n",
    "    temp.append(stats.kurtosis(yy))\n",
    "    temp.append(m3)\n",
    "    temp.append(m4)\n",
    "    \n",
    "    return (temp)\n",
    "\n",
    "def statsFeature(data):\n",
    "    features = []\n",
    "    #total = allBlock(data)\n",
    "    #for i in range(len(total)):\n",
    "    #    tempFeature = computeStats(np.reshape(total[i],[-1,]))\n",
    "    #    for j in range(len(tempFeature)):\n",
    "    #        features.append(tempFeature[j])\n",
    "    #slice = np.zeros([data.shape[0], data.shape[1], data.shape[2]])\n",
    "    for i in range(data.shape[0]):\n",
    "        #slice[i] = data[:,:,i]\n",
    "        tempFeature = computeStats(np.reshape(data[:,:,i],[-1,]))\n",
    "         #print(len(tempFeature))\n",
    "        for j in range(len(tempFeature)):\n",
    "            features.append(tempFeature[j])     \n",
    "        \n",
    "    return features\n",
    "\n",
    "def mriToFeature(fileDir):\n",
    "    file, number = readFileDir(fileDir)\n",
    "    numberStats = 9\n",
    "    numberBlock = 176 # Z-axis\n",
    "    features = np.zeros([number, numberStats*numberBlock])\n",
    "    #print(number)\n",
    "    # get the MRI image\n",
    "    for i in range(number):\n",
    "        filename = file[0,i]\n",
    "        mriNumber = readFileNumber(filename)\n",
    "        #print(mriNumber)\n",
    "        img = nib.load(fileDir + filename)\n",
    "        imgData = img.get_data()\n",
    "        d2 = np.reshape(imgData, [imgData.shape[0],imgData.shape[1],imgData.shape[2]])\n",
    "        #print(d2.shape, imgData.shape[0], imgData.shape[1],imgData.shape[2])\n",
    "        features[mriNumber - 1,:] = statsFeature(d2)\n",
    "    return features\n"
   ]
  },
  {
   "cell_type": "code",
   "execution_count": 22,
   "metadata": {
    "collapsed": false
   },
   "outputs": [],
   "source": [
    "from numpy import genfromtxt\n",
    "# feature parameters \n",
    "numberStats = 9\n",
    "numberBlock = 176 # Z-axis\n",
    "\n",
    "# set the directories\n",
    "testDir = '../testMRI/set_test/'\n",
    "trainDir = '../testMRI/set_train/'\n",
    "trainTarget = '../data/targets.csv'\n",
    "\n",
    "# read the training targets\n",
    "temp = []\n",
    "temp.append(genfromtxt(trainTarget, delimiter=','))\n",
    "trainingTargets = (listToMat(temp)).T\n",
    "\n",
    "# testDir = '../data/set_test/'\n",
    "testFile, numberTest = readFileDir(testDir)\n",
    "testFeatures = np.zeros([numberTest, numberStats*numberBlock])"
   ]
  },
  {
   "cell_type": "code",
   "execution_count": 23,
   "metadata": {
    "collapsed": false
   },
   "outputs": [],
   "source": [
    "featureTest = mriToFeature(testDir)"
   ]
  },
  {
   "cell_type": "code",
   "execution_count": 19,
   "metadata": {
    "collapsed": false
   },
   "outputs": [
    {
     "data": {
      "text/plain": [
       "(138, 1584)"
      ]
     },
     "execution_count": 19,
     "metadata": {},
     "output_type": "execute_result"
    }
   ],
   "source": [
    "featureTest.shape"
   ]
  },
  {
   "cell_type": "code",
   "execution_count": 20,
   "metadata": {
    "collapsed": false
   },
   "outputs": [
    {
     "data": {
      "text/plain": [
       "0"
      ]
     },
     "execution_count": 20,
     "metadata": {},
     "output_type": "execute_result"
    }
   ],
   "source": [
    "csvFormatedOutput('../test.csv',testFeatures[0,:])"
   ]
  },
  {
   "cell_type": "code",
   "execution_count": null,
   "metadata": {
    "collapsed": false
   },
   "outputs": [],
   "source": []
  },
  {
   "cell_type": "code",
   "execution_count": null,
   "metadata": {
    "collapsed": false
   },
   "outputs": [],
   "source": []
  },
  {
   "cell_type": "code",
   "execution_count": null,
   "metadata": {
    "collapsed": false
   },
   "outputs": [],
   "source": []
  },
  {
   "cell_type": "code",
   "execution_count": null,
   "metadata": {
    "collapsed": false
   },
   "outputs": [],
   "source": []
  },
  {
   "cell_type": "code",
   "execution_count": null,
   "metadata": {
    "collapsed": false
   },
   "outputs": [],
   "source": []
  },
  {
   "cell_type": "code",
   "execution_count": null,
   "metadata": {
    "collapsed": false
   },
   "outputs": [],
   "source": []
  },
  {
   "cell_type": "code",
   "execution_count": null,
   "metadata": {
    "collapsed": false
   },
   "outputs": [],
   "source": []
  },
  {
   "cell_type": "code",
   "execution_count": null,
   "metadata": {
    "collapsed": false
   },
   "outputs": [],
   "source": []
  },
  {
   "cell_type": "code",
   "execution_count": null,
   "metadata": {
    "collapsed": false
   },
   "outputs": [],
   "source": [
    "                            "
   ]
  },
  {
   "cell_type": "code",
   "execution_count": null,
   "metadata": {
    "collapsed": false
   },
   "outputs": [],
   "source": []
  },
  {
   "cell_type": "code",
   "execution_count": null,
   "metadata": {
    "collapsed": false
   },
   "outputs": [],
   "source": []
  },
  {
   "cell_type": "code",
   "execution_count": null,
   "metadata": {
    "collapsed": false
   },
   "outputs": [],
   "source": []
  },
  {
   "cell_type": "code",
   "execution_count": null,
   "metadata": {
    "collapsed": false
   },
   "outputs": [],
   "source": []
  },
  {
   "cell_type": "code",
   "execution_count": null,
   "metadata": {
    "collapsed": false
   },
   "outputs": [],
   "source": []
  },
  {
   "cell_type": "code",
   "execution_count": null,
   "metadata": {
    "collapsed": false
   },
   "outputs": [],
   "source": []
  },
  {
   "cell_type": "code",
   "execution_count": null,
   "metadata": {
    "collapsed": false
   },
   "outputs": [],
   "source": []
  },
  {
   "cell_type": "code",
   "execution_count": null,
   "metadata": {
    "collapsed": false
   },
   "outputs": [],
   "source": []
  },
  {
   "cell_type": "code",
   "execution_count": null,
   "metadata": {
    "collapsed": true
   },
   "outputs": [],
   "source": []
  },
  {
   "cell_type": "code",
   "execution_count": null,
   "metadata": {
    "collapsed": true
   },
   "outputs": [],
   "source": []
  }
 ],
 "metadata": {
  "anaconda-cloud": {},
  "kernelspec": {
   "display_name": "Python [default]",
   "language": "python",
   "name": "python3"
  }
 },
 "nbformat": 4,
 "nbformat_minor": 1
}

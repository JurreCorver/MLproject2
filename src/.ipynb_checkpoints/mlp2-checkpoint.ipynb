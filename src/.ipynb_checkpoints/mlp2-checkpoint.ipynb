{
 "cells": [
  {
   "cell_type": "code",
   "execution_count": 300,
   "metadata": {
    "collapsed": false
   },
   "outputs": [],
   "source": [
    "import os, glob\n",
    "import csv\n",
    "import matplotlib.pyplot as plt\n",
    "import numpy as np\n",
    "from numpy import genfromtxt\n",
    "import nibabel as nib\n",
    "from scipy import stats\n",
    "from nibabel.testing import data_path\n",
    "\n",
    "# csv write a formated csv file\n",
    "def csvFormatedOutput(fileName, ans):\n",
    "    with open(fileName, 'w', newline='') as f:\n",
    "        c = csv.writer(f, delimiter=',',\n",
    "                       quotechar='|', quoting=csv.QUOTE_MINIMAL)\n",
    "        c.writerow(['ID', 'Prediction'])\n",
    "        for i in range(0, len(ans)):\n",
    "            c.writerow([i + 1, ans[i]])\n",
    "    return 0\n",
    "\n",
    "def listToMat(l):\n",
    "    return np.array(l).reshape(-1, np.array(l).shape[-1])\n",
    "\n",
    "def plotter(measured, predicted):\n",
    "    # plot the result\n",
    "    fig, ax = plt.subplots()\n",
    "    y = measured\n",
    "    ax.scatter(y, predicted)\n",
    "    ax.plot([y.min(), y.max()], [y.min(), y.max()], 'k--', lw=4)\n",
    "    ax.set_xlabel('Measured')\n",
    "    ax.set_ylabel('Predicted')\n",
    "    plt.show()\n",
    "    return 0\n",
    "\n",
    "def readFileDir(fileDir):\n",
    "    dirFile = []\n",
    "    for file in os.listdir(fileDir):\n",
    "        if file.endswith(\".nii\"):\n",
    "            dirFile.append(file)\n",
    "    dirFile = listToMat(dirFile)\n",
    "    numDir = dirFile.shape[1]\n",
    "    if numDir == 0:\n",
    "        return [],-1\n",
    "    else:\n",
    "        return dirFile, numDir\n",
    "\n",
    "def readFileNumber(filename):\n",
    "    startIndex = filename.find('_')\n",
    "    endIndex = filename.find('.')\n",
    "    if (startIndex != -1) & (endIndex > startIndex):\n",
    "        return int(filename[startIndex + 1:endIndex])\n",
    "    else:\n",
    "        return -1\n",
    "    \n",
    "def computeStats(yy):\n",
    "    temp = []\n",
    "    temp.append(yy.mean())\n",
    "    temp.append(yy.std())\n",
    "#     sigma = yy.std()\n",
    "    temp.append(np.median(yy))\n",
    "    temp.append(yy.max())\n",
    "    temp.append(yy.min())\n",
    "    m3 = stats.moment(yy,3)\n",
    "    temp.append(stats.skew(yy))\n",
    "    m4 = stats.moment(yy,4)\n",
    "    temp.append(stats.kurtosis(yy))\n",
    "    temp.append(m3)\n",
    "    temp.append(m4)\n",
    "    \n",
    "    return (temp)\n",
    "\n",
    "def halfSplit(data):\n",
    "    x1 = np.vsplit(data,2)\n",
    "    x2= []\n",
    "    x3 = []\n",
    "    for i in range(len(x1)):\n",
    "        temp = (np.hsplit(x1[i],2))\n",
    "        for j in range(len(temp)):\n",
    "            x2.append(temp[j])\n",
    "    for j in range(len(x2)):\n",
    "        temp = (np.dsplit(x2[j],2))\n",
    "        for j in range(len(temp)):\n",
    "            x3.append(temp[j])\n",
    "    return x3\n",
    "\n",
    "def blockDivision(data, level):\n",
    "    if level == 0:\n",
    "        return (data)\n",
    "    if level == 1:\n",
    "        return halfSplit(data)\n",
    "    if level == 2:\n",
    "        temp = halfSplit(data)\n",
    "        output = []\n",
    "        for i in range(len(temp)):\n",
    "            temp1 = halfSplit(temp[i])\n",
    "            for j in range(len(temp1)):\n",
    "                output.append(temp1[j])\n",
    "        return output\n",
    "    if level == 3:\n",
    "        temp = halfSplit(data)\n",
    "        output = []\n",
    "        for i in range(len(temp)):\n",
    "            temp1 = halfSplit(temp[i])\n",
    "            for j in range(len(temp1)):\n",
    "                temp2 = halfSplit(temp1[j])\n",
    "                for k in range(len(temp2)):\n",
    "                    output.append(temp2[k])\n",
    "        return output\n",
    "    \n",
    "def allBlock(data):\n",
    "    x0 = blockDivision(data, 0)\n",
    "    x1 = blockDivision(data, 1)\n",
    "    x2 = blockDivision(data, 2)\n",
    "    x3 = blockDivision(data, 3)\n",
    "    totalBlocks = []\n",
    "    totalBlocks.append(x0)\n",
    "    for i in range(len(x1)):\n",
    "        totalBlocks.append(x1[i])\n",
    "    for i in range(len(x2)):\n",
    "        totalBlocks.append(x2[i])\n",
    "    for i in range(len(x3)):\n",
    "        totalBlocks.append(x3[i])\n",
    "    return totalBlocks    \n",
    "def statsFeature(data):\n",
    "    features = []\n",
    "    total = allBlock(data)\n",
    "    for i in range(len(total)):\n",
    "        tempFeature = computeStats(np.reshape(total[i],[-1,]))\n",
    "        for j in range(len(tempFeature)):\n",
    "            features.append(tempFeature[j])\n",
    "    return features\n",
    "\n",
    "def mriToFeature(fileDir):\n",
    "    file, number = readFileDir(fileDir)\n",
    "    numberStats = 9\n",
    "    numberBlock = 585\n",
    "    features = np.zeros([number, numberStats*numberBlock])\n",
    "    # get the MRI image\n",
    "    for i in range(number):\n",
    "        filename = file[0,i]\n",
    "        mriNumber = readFileNumber(filename)\n",
    "        img = nib.load(fileDir + filename)\n",
    "        imgData = img.get_data()\n",
    "        d2 = np.reshape(imgData, [imgData.shape[0],imgData.shape[1],imgData.shape[2]])\n",
    "        features[mriNumber - 1,:] = statsFeature(d2)\n",
    "    return features\n"
   ]
  },
  {
   "cell_type": "code",
   "execution_count": 296,
   "metadata": {
    "collapsed": false
   },
   "outputs": [],
   "source": [
    "# feature parameters \n",
    "numberStats = 9\n",
    "numberBlock = 585\n",
    "\n",
    "# set the directories\n",
    "testDir = '../testMRI/set_test/'\n",
    "trainDir = '../testMRI/set_train/'\n",
    "trainTarget = '../data/targets.csv'\n",
    "\n",
    "# read the training targets\n",
    "temp = []\n",
    "temp.append(genfromtxt(trainTarget, delimiter=','))\n",
    "trainingTargets = (listToMat(temp)).T\n",
    "\n",
    "# testDir = '../data/set_test/'\n",
    "testFile, numberTest = readFileDir(testDir)\n",
    "testFeatures = np.zeros([numberTest, numberStats*numberBlock])"
   ]
  },
  {
   "cell_type": "code",
   "execution_count": 297,
   "metadata": {
    "collapsed": false
   },
   "outputs": [],
   "source": []
  },
  {
   "cell_type": "code",
   "execution_count": 298,
   "metadata": {
    "collapsed": false
   },
   "outputs": [],
   "source": [
    "featureTest = mriToFeature(testDir)"
   ]
  },
  {
   "cell_type": "code",
   "execution_count": 299,
   "metadata": {
    "collapsed": false
   },
   "outputs": [
    {
     "data": {
      "text/plain": [
       "(1, 5265)"
      ]
     },
     "execution_count": 299,
     "metadata": {},
     "output_type": "execute_result"
    }
   ],
   "source": [
    "featureTest.shape"
   ]
  },
  {
   "cell_type": "code",
   "execution_count": 285,
   "metadata": {
    "collapsed": false
   },
   "outputs": [
    {
     "data": {
      "text/plain": [
       "0"
      ]
     },
     "execution_count": 285,
     "metadata": {},
     "output_type": "execute_result"
    }
   ],
   "source": [
    "csvFormatedOutput('../test.csv',testFeatures[0,:])"
   ]
  },
  {
   "cell_type": "code",
   "execution_count": null,
   "metadata": {
    "collapsed": false
   },
   "outputs": [],
   "source": []
  },
  {
   "cell_type": "code",
   "execution_count": null,
   "metadata": {
    "collapsed": false
   },
   "outputs": [],
   "source": []
  },
  {
   "cell_type": "code",
   "execution_count": null,
   "metadata": {
    "collapsed": false
   },
   "outputs": [],
   "source": []
  },
  {
   "cell_type": "code",
   "execution_count": null,
   "metadata": {
    "collapsed": false
   },
   "outputs": [],
   "source": []
  },
  {
   "cell_type": "code",
   "execution_count": null,
   "metadata": {
    "collapsed": false
   },
   "outputs": [],
   "source": []
  },
  {
   "cell_type": "code",
   "execution_count": null,
   "metadata": {
    "collapsed": false
   },
   "outputs": [],
   "source": []
  },
  {
   "cell_type": "code",
   "execution_count": null,
   "metadata": {
    "collapsed": false
   },
   "outputs": [],
   "source": []
  },
  {
   "cell_type": "code",
   "execution_count": null,
   "metadata": {
    "collapsed": false
   },
   "outputs": [],
   "source": []
  },
  {
   "cell_type": "code",
   "execution_count": null,
   "metadata": {
    "collapsed": false
   },
   "outputs": [],
   "source": [
    "                            "
   ]
  },
  {
   "cell_type": "code",
   "execution_count": null,
   "metadata": {
    "collapsed": false
   },
   "outputs": [],
   "source": []
  },
  {
   "cell_type": "code",
   "execution_count": null,
   "metadata": {
    "collapsed": false
   },
   "outputs": [],
   "source": []
  },
  {
   "cell_type": "code",
   "execution_count": null,
   "metadata": {
    "collapsed": false
   },
   "outputs": [],
   "source": []
  },
  {
   "cell_type": "code",
   "execution_count": null,
   "metadata": {
    "collapsed": false
   },
   "outputs": [],
   "source": []
  },
  {
   "cell_type": "code",
   "execution_count": null,
   "metadata": {
    "collapsed": false
   },
   "outputs": [],
   "source": []
  },
  {
   "cell_type": "code",
   "execution_count": null,
   "metadata": {
    "collapsed": false
   },
   "outputs": [],
   "source": []
  },
  {
   "cell_type": "code",
   "execution_count": null,
   "metadata": {
    "collapsed": false
   },
   "outputs": [],
   "source": []
  },
  {
   "cell_type": "code",
   "execution_count": null,
   "metadata": {
    "collapsed": false
   },
   "outputs": [],
   "source": []
  },
  {
   "cell_type": "code",
   "execution_count": null,
   "metadata": {
    "collapsed": true
   },
   "outputs": [],
   "source": []
  },
  {
   "cell_type": "code",
   "execution_count": null,
   "metadata": {
    "collapsed": true
   },
   "outputs": [],
   "source": []
  }
 ],
 "metadata": {
  "kernelspec": {
   "display_name": "Python 3",
   "language": "python",
   "name": "python3"
  },
  "language_info": {
   "codemirror_mode": {
    "name": "ipython",
    "version": 3
   },
   "file_extension": ".py",
   "mimetype": "text/x-python",
   "name": "python",
   "nbconvert_exporter": "python",
   "pygments_lexer": "ipython3",
   "version": "3.4.3"
  }
 },
 "nbformat": 4,
 "nbformat_minor": 1
}
